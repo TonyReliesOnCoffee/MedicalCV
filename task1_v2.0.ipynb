{
  "cells": [
    {
      "cell_type": "code",
      "execution_count": 35,
      "metadata": {
        "colab": {
          "base_uri": "https://localhost:8080/"
        },
        "id": "IOQItbE-S3Wh",
        "outputId": "2d68d46b-6dda-4f68-c15e-8b5035d29c1a"
      },
      "outputs": [
        {
          "output_type": "stream",
          "name": "stdout",
          "text": [
            "Looking in indexes: https://pypi.org/simple, https://us-python.pkg.dev/colab-wheels/public/simple/\n",
            "Requirement already satisfied: nibabel in /usr/local/lib/python3.8/dist-packages (3.0.2)\n",
            "Requirement already satisfied: numpy>=1.12 in /usr/local/lib/python3.8/dist-packages (from nibabel) (1.21.6)\n"
          ]
        }
      ],
      "source": [
        "!pip install nibabel"
      ]
    },
    {
      "cell_type": "code",
      "source": [
        "# !unzip drive-download-20230104T222733Z-001.zip"
      ],
      "metadata": {
        "id": "KUTCJwK9TPlE"
      },
      "execution_count": 36,
      "outputs": []
    },
    {
      "cell_type": "code",
      "execution_count": 37,
      "metadata": {
        "id": "IP2LIq6JS3Wi"
      },
      "outputs": [],
      "source": [
        "import os\n",
        "import shutil\n",
        "\n",
        "import matplotlib.pyplot as plt\n",
        "import nibabel as nib\n",
        "import numpy as np\n",
        "from PIL import Image, ImageDraw\n",
        "from scipy.spatial import ConvexHull\n",
        "from skimage import measure\n",
        "\n",
        "import glob\n",
        "import csv\n"
      ]
    },
    {
      "cell_type": "code",
      "execution_count": 38,
      "metadata": {
        "colab": {
          "base_uri": "https://localhost:8080/"
        },
        "id": "QXNXd24IS3Wi",
        "outputId": "f259e06c-8a36-4678-cc17-05f11d2ead18"
      },
      "outputs": [
        {
          "output_type": "stream",
          "name": "stdout",
          "text": [
            "('ProstateX-0000', ['./drive-download-20230104T222733Z-001/ProstateX-0000/PM.nii', './drive-download-20230104T222733Z-001/ProstateX-0000/T2W.nii'])\n",
            "('ProstateX-0001', ['./drive-download-20230104T222733Z-001/ProstateX-0001/PM.nii', './drive-download-20230104T222733Z-001/ProstateX-0001/T2W.nii'])\n",
            "('ProstateX-0002', ['./drive-download-20230104T222733Z-001/ProstateX-0002/PM.nii', './drive-download-20230104T222733Z-001/ProstateX-0002/T2W.nii'])\n"
          ]
        }
      ],
      "source": [
        "basepath = \"./drive-download-20230104T222733Z-001/*\"\n",
        "mapping = {}\n",
        "paths = sorted(glob.glob(basepath))\n",
        "for path in paths:\n",
        "    patientName = path.split(\"/\")[-1]\n",
        "    patientImages = sorted(glob.glob(path + \"/*\"))\n",
        "    patientImages = [image for image in patientImages if image.endswith(\"T2W.nii\") or image.endswith(\"PM.nii\")]\n",
        "    mapping[patientName] = patientImages\n",
        "\n",
        "for item in mapping.items():\n",
        "    print(item)"
      ]
    },
    {
      "cell_type": "code",
      "execution_count": 39,
      "metadata": {
        "colab": {
          "base_uri": "https://localhost:8080/",
          "height": 880
        },
        "id": "asJUQ2l7S3Wi",
        "outputId": "180226e5-e9fd-4484-ceb6-e153ddb3e056"
      },
      "outputs": [
        {
          "output_type": "stream",
          "name": "stdout",
          "text": [
            "mask size:  (19, 384, 384)\n",
            "im size:  (19, 384, 384)\n",
            "mask size:  (19, 384, 384)\n",
            "im size:  (19, 384, 384)\n",
            "mask size:  (19, 384, 384)\n",
            "im size:  (19, 384, 384)\n"
          ]
        },
        {
          "output_type": "display_data",
          "data": {
            "text/plain": [
              "<Figure size 432x288 with 1 Axes>"
            ],
            "image/png": "[encoded data removed]"
          },
          "metadata": {
            "needs_background": "light"
          }
        },
        {
          "output_type": "display_data",
          "data": {
            "text/plain": [
              "<Figure size 432x288 with 1 Axes>"
            ],
            "image/png": "[encoded data removed]"
          },
          "metadata": {
            "needs_background": "light"
          }
        },
        {
          "output_type": "display_data",
          "data": {
            "text/plain": [
              "<Figure size 432x288 with 1 Axes>"
            ],
            "image/png": "[encoded data removed]"
          },
          "metadata": {
            "needs_background": "light"
          }
        }
      ],
      "source": [
        "for patientName, patientImages in mapping.items():\n",
        "    maskPath = patientImages[0]\n",
        "    mriImagePath = patientImages[1]\n",
        "\n",
        "    # Prostate mask for this patient\n",
        "    mask = nib.load(maskPath)\n",
        "    mask = mask.get_fdata()\n",
        "    mask = mask.T\n",
        "    print(\"mask size: \", mask.shape)\n",
        "\n",
        "    # MRI Sequence for this patient\n",
        "    im = nib.load(mriImagePath)\n",
        "    im = im.get_fdata()\n",
        "    im = im.T\n",
        "    print(\"im size: \", im.shape)\n",
        "\n",
        "    # Find image index with the largest prostate area in view\n",
        "    areas = [np.sum(mask[i,:,:]) for i in range(mask.shape[0])]\n",
        "    max_index = np.argmax(areas)\n",
        "\n",
        "    # # Overlay the mask on the image with the largest prostate area\n",
        "    # plt.figure()\n",
        "    # plt.title(patientName + \" \" + mriImagePath.split(\"/\")[-1])\n",
        "    # plt.imshow(im[max_index,:,:], 'gray', interpolation='none')\n",
        "    # plt.imshow(mask[max_index,:,:], 'jet', interpolation='none', alpha=0.5)\n",
        "\n",
        "    # Masking out the prostate separately as shown in assignment\n",
        "    plt.figure()\n",
        "    plt.imshow(np.multiply(mask[max_index,:,:], im[max_index,:,:]), 'gray')"
      ]
    }
  ],
  "metadata": {
    "kernelspec": {
      "display_name": "Python 3",
      "language": "python",
      "name": "python3"
    },
    "language_info": {
      "codemirror_mode": {
        "name": "ipython",
        "version": 3
      },
      "file_extension": ".py",
      "mimetype": "text/x-python",
      "name": "python",
      "nbconvert_exporter": "python",
      "pygments_lexer": "ipython3",
      "version": "3.8.13"
    },
    "orig_nbformat": 4,
    "vscode": {
      "interpreter": {
        "hash": "5f0e7b21618eebabfb890b1f61c36704a85622a40668047e74f7f4425e2fdcad"
      }
    },
    "colab": {
      "provenance": []
    }
  },
  "nbformat": 4,
  "nbformat_minor": 0
}